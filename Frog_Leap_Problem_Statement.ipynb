{
  "cells": [
    {
      "cell_type": "markdown",
      "metadata": {
        "id": "fxZte1ZuP3yr"
      },
      "source": [
        "# Problem statement\n",
        "\n",
        "Create famous 'Frog leap' puzzle game. Try completing the game before starting to get an idea about its working.\n",
        "[Demonstration](https://www.neok12.com/games/leap-froggies/leap-froggies.htm).\n",
        "\n",
        "\n",
        "### Rules ###\n",
        "1. The left set of frogs can only move right, the right set of frogs can only move left.\n",
        "2. Frogs can move forward one space, or move two spaces by jumping over another frog from opposite side.\n",
        "3. The puzzle is solved when the two sets of frogs have switched positions.\n",
        "\n",
        "\n",
        "## Steps to solve the problem:\n",
        "### Step1:-\n",
        "- Display green and brown frogs on the left and right sides initially.\n",
        "\n",
        "Initial Display :-  \n",
        "```\n",
        "[ 0 ,  1 ,  2 ,  3 ,  4 ,  5 ,  6 ]\n",
        "['G', 'G', 'G', '-', 'B', 'B', 'B']\n",
        "```\n",
        "<br>\n",
        "Here 'G' represents Green frogs on the left side and 'B' represents brown frogs on the right side. The '-' defines the position of empty leaf.\n",
        "(You can change display according to your imagination or convinience)\n",
        "\n",
        "### Step2:-\n",
        "Accept positions of the frog that you want to move.<br>\n",
        "Example: If we enter position 2 then the game will look like this:-\n",
        "```\n",
        "[ 0 ,  1 ,  2 ,  3 ,  4 ,  5 ,  6 ]\n",
        "['G', 'G', '-', 'G', 'B', 'B', 'B']\n",
        "```\n",
        "\n",
        "### Step3:- ###\n",
        "Define Invalid moves and add conditional 'if' statements accordingly\n",
        "#### Rules\n",
        "1. Entered position should be between 0 to 6. Or a character 'q' to quit the game.\n",
        "2. Entered position cannot be the position of empty leaf.\n",
        "3. If the selected frog position cannot perform the contraints given in rule 2 then the move is invalid.\n",
        "\n",
        "### Step4:-\n",
        "Make the appropriate move by changing the game display."
      ]
    },
    {
      "cell_type": "markdown",
      "metadata": {
        "id": "-viYJbAFQXcJ"
      },
      "source": [
        "## Step 1\n",
        "First create a list `positions` which contains the characters 'G','B' and '-' in the same sequence as given in the initial display state."
      ]
    },
    {
      "cell_type": "code",
      "execution_count": null,
      "metadata": {
        "id": "fSvLBrjwP0sr"
      },
      "outputs": [],
      "source": [
        "positions = ['G', 'G', 'G', '-', 'B', 'B', 'B']\n"
      ]
    },
    {
      "cell_type": "markdown",
      "metadata": {
        "id": "unr1AJLSQj_4"
      },
      "source": [
        "Now print this string ```[ 0 ,  1 ,  2 ,  3 ,  4 ,  5 ,  6 ]``` and after that print the list `positions`"
      ]
    },
    {
      "cell_type": "code",
      "execution_count": null,
      "metadata": {
        "colab": {
          "base_uri": "https://localhost:8080/"
        },
        "id": "qqKLcfEmQgiZ",
        "outputId": "710dcd31-7acf-47f9-c3a3-c2874cdf7681"
      },
      "outputs": [
        {
          "name": "stdout",
          "output_type": "stream",
          "text": [
            "[0, 1, 2, 3, 4, 5, 6]\n",
            "['G', 'G', 'G', '-', 'B', 'B', 'B']\n"
          ]
        }
      ],
      "source": [
        "print([0,1,2,3,4,5,6])\n",
        "print(positions)"
      ]
    },
    {
      "cell_type": "markdown",
      "metadata": {
        "id": "DuEVsgtjQqXV"
      },
      "source": [
        "Take position input from user and write a message as `\"Press q to quit else \\nEnter position of piece:\"`."
      ]
    },
    {
      "cell_type": "code",
      "execution_count": null,
      "metadata": {
        "colab": {
          "base_uri": "https://localhost:8080/"
        },
        "id": "nPz65EKXQnDR",
        "outputId": "abdf017e-ae36-4faf-86e9-bbf8376a20de"
      },
      "outputs": [
        {
          "name": "stdout",
          "output_type": "stream",
          "text": [
            " Press q to quit, Else enter the position of piece = q\n"
          ]
        }
      ],
      "source": [
        "user_input = input(\" Press q to quit, Else enter the position of piece = \")"
      ]
    },
    {
      "cell_type": "markdown",
      "metadata": {
        "id": "ejy_x_eTRJmT"
      },
      "source": [
        "Now the taken input is in string format. So first check if the input is `'q'` character. If input is `'q'` then the person is quiting the game so print `'You Lose'`."
      ]
    },
    {
      "cell_type": "code",
      "execution_count": null,
      "metadata": {
        "id": "1OrsC7P9QxO6"
      },
      "outputs": [],
      "source": [
        "if user_input == 'q':\n",
        "  print(\" You lose \")"
      ]
    },
    {
      "cell_type": "markdown",
      "metadata": {
        "id": "yZJeDTGlRSMe"
      },
      "source": [
        "Next if input character is not `'q'` then it has to be some integer. so convert input to integer format."
      ]
    },
    {
      "cell_type": "code",
      "execution_count": null,
      "metadata": {
        "id": "PWZj_Js6RP2G"
      },
      "outputs": [],
      "source": [
        "else :\n",
        "  selected_position = int(user_input)\n",
        "  print(\"selected_position: \",selected_position)"
      ]
    },
    {
      "cell_type": "markdown",
      "metadata": {
        "id": "SyCzN-cYRXZa"
      },
      "source": [
        "## Step 2\n",
        "Now we have to check validity of the selected positions or move.<br>\n",
        "If the entered number isn't between 0 and 6, then print 'Invalid move'."
      ]
    },
    {
      "cell_type": "code",
      "execution_count": null,
      "metadata": {
        "id": "P2y7g7GvNE2K",
        "colab": {
          "base_uri": "https://localhost:8080/"
        },
        "outputId": "f4c00d1d-685f-4787-c152-de486288d851"
      },
      "outputs": [
        {
          "output_type": "stream",
          "name": "stdout",
          "text": [
            "\n"
          ]
        }
      ],
      "source": [
        "print(\"Invalid move\" if not (0 <= selected_position <= 6) else \"\")"
      ]
    },
    {
      "cell_type": "markdown",
      "metadata": {
        "id": "Va03g0l5Rlkx"
      },
      "source": [
        "A frog should be present on the selected position to make a move. If leaf is selected then it doesn't make sense. Therefore, if entered postition is same as the postition of empty leaf then the move is invalid and print `Invalid Move`"
      ]
    },
    {
      "cell_type": "code",
      "source": [
        "\n",
        "if positions[selected_position] == '-':\n",
        "    print(\"Invalid Move: Selected position is the position of the empty leaf.\")"
      ],
      "metadata": {
        "id": "1m_hD8K5xy82"
      },
      "execution_count": null,
      "outputs": []
    },
    {
      "cell_type": "markdown",
      "metadata": {
        "id": "cp5q2ahQTnwI"
      },
      "source": [
        "Initialize a variable named `pos2` at value 0, to store the index of empty leaf, so that we can use it later."
      ]
    },
    {
      "cell_type": "code",
      "execution_count": null,
      "metadata": {
        "id": "pWd0n-4cPNVU"
      },
      "outputs": [],
      "source": [
        "pos2 = 0"
      ]
    },
    {
      "cell_type": "markdown",
      "metadata": {
        "id": "V9UFD623R3Oa"
      },
      "source": [
        "```   \n",
        "    Check if the selected frog is 'G':\n",
        "  \n",
        "        (Inside if when it's 'G'. As 'G' is selected frog can move to right only.)\n",
        "        \n",
        "        ❗condition 1\n",
        "\n",
        "        If **selected_position + 1** is less than or equal to 6 and **curent_position + 1** contains '-'\n",
        "        then it's a valid move and store that postion in `pos2`.\n",
        "        \n",
        "        ❗condition2\n",
        "\n",
        "        Else if **selected_position + 2** is less than or equal to 6 and if **current_position + 2**\n",
        "        contains '-' and if **selected_position + 1** contains 'B' then it's a valid move  and store that postion in `pos2`.\n",
        "        \n",
        "        ❗condition3:\n",
        "\n",
        "        Else remainig all are invalid, so print `Invalid Move`\n",
        "      \n",
        "```"
      ]
    },
    {
      "cell_type": "code",
      "execution_count": null,
      "metadata": {
        "id": "IDHxpibURriq",
        "colab": {
          "base_uri": "https://localhost:8080/"
        },
        "outputId": "b4e2ebf3-b99d-4c3d-f533-7720ade03a37"
      },
      "outputs": [
        {
          "output_type": "stream",
          "name": "stdout",
          "text": [
            "Invalid Move\n"
          ]
        }
      ],
      "source": [
        "if positions[selected_position] == 'G':\n",
        "            # Condition 1\n",
        "            if selected_position + 1 <= 6 and positions[selected_position + 1] == '-':\n",
        "                pos2 = selected_position + 1\n",
        "            # Condition 2\n",
        "            elif selected_position + 2 <= 6 and positions[selected_position + 2] == '-' and positions[selected_position + 1] == 'B':\n",
        "                pos2 = selected_position + 2\n",
        "            # Condition 3\n",
        "            else:\n",
        "                print(\"Invalid Move\")"
      ]
    },
    {
      "cell_type": "markdown",
      "metadata": {
        "id": "DyQX5nUsTZPF"
      },
      "source": [
        "```\n",
        "    Check if the selected frog is 'B':\n",
        "    \n",
        "        (Inside if when it's 'B'. As 'B' is selected frog can move to left only.)\n",
        "        \n",
        "        ❗condition1:\n",
        "\n",
        "        If **selected_position - 1** is more than or equal to 0 and **curent_position - 1** contains '-' then\n",
        "        it's a valid move and and store that postion in `pos2`.\n",
        "        \n",
        "        ❗condition2:\n",
        "\n",
        "        Else if **selected_position - 2** is more than or equal to 0 and if **current_position - 2** contains '-'\n",
        "        and if **selected_position - 1** contains 'G' then it's a valid move and and store that postion in `pos2`.\n",
        "\n",
        "        ❗condition3:\n",
        "        \n",
        "        Else remainig all are invalid,, so print `Invalid Move`.\n",
        "        \n",
        "```"
      ]
    },
    {
      "cell_type": "code",
      "execution_count": null,
      "metadata": {
        "id": "cQ2G3ZO_TWU5"
      },
      "outputs": [],
      "source": [
        "if positions[selected_position] == 'B':\n",
        "            # Condition 1\n",
        "            if selected_position - 1 >= 0 and positions[selected_position - 1] == '-':\n",
        "                pos2 = selected_position - 1\n",
        "            # Condition 2\n",
        "            elif selected_position - 2 >= 0 and positions[selected_position - 2] == '-' and positions[selected_position - 1] == 'G':\n",
        "                pos2 = selected_position - 2\n",
        "            # Condition 3\n",
        "            else:\n",
        "                print(\"Invalid Move\")\n"
      ]
    },
    {
      "cell_type": "markdown",
      "metadata": {
        "id": "Vads2oztUd4g"
      },
      "source": [
        "Swap the element at selected positions and calculated position2 in the list.<br> So basically we are moving the frog to next valid position by swapping elements of array."
      ]
    },
    {
      "cell_type": "code",
      "execution_count": null,
      "metadata": {
        "id": "jXOGtww7UeYQ"
      },
      "outputs": [],
      "source": [
        "positions[selected_position], positions[pos2] = positions[pos2], positions[selected_position]\n"
      ]
    },
    {
      "cell_type": "markdown",
      "metadata": {
        "id": "8qF4Q2HsUlZ4"
      },
      "source": [
        "Now print the display of the game again to see the change.<br>\n",
        "If we enter position 2 then the output will look like this:-\n",
        "```\n",
        "[ 0 ,  1 ,  2 ,  3 ,  4 ,  5 ,  6 ]\n",
        "['G', 'G', '-', 'G', 'B', 'B', 'B']\n",
        "```"
      ]
    },
    {
      "cell_type": "code",
      "execution_count": null,
      "metadata": {
        "id": "0S3oNzG3UifK",
        "colab": {
          "base_uri": "https://localhost:8080/"
        },
        "outputId": "bb9fd138-101c-4c46-cfe3-63151cdf8c06"
      },
      "outputs": [
        {
          "output_type": "stream",
          "name": "stdout",
          "text": [
            "[0, 1, 2, 3, 4, 5, 6]\n",
            "['G', 'G', 'G', '-', 'B', 'B', 'B']\n"
          ]
        }
      ],
      "source": [
        "print([0, 1, 2, 3, 4, 5, 6])\n",
        "print(positions)"
      ]
    },
    {
      "cell_type": "markdown",
      "metadata": {
        "id": "EILVGu48UsH-"
      },
      "source": [
        "Check for winning condition by comparing the elements of list. If player has won the game print `'You Win'`"
      ]
    },
    {
      "cell_type": "code",
      "execution_count": null,
      "metadata": {
        "id": "GYkZdiA6Uote"
      },
      "outputs": [],
      "source": [
        "if positions == ['B', 'B', 'B', '-', 'G', 'G', 'G']:\n",
        "    print(\"You Win!\")"
      ]
    },
    {
      "cell_type": "markdown",
      "metadata": {
        "id": "a2a0HHjiUyQ8"
      },
      "source": [
        "Now the game should keep running until the player quits, so place all conditional statements inside an infinite loop.<br>\n",
        "\n",
        "1. We have to `'break'` the loop if the player presses `'q'` and quits.\n",
        "\n",
        "2. If the move made by player is `'Invalid Move'` then we have to `'continue'` without executing remaining part of the selected iteration.\n",
        "\n",
        "3. If player wins the game we have to `break` the loop.\n",
        "\n",
        "\n",
        "```\n",
        "Infinite loop:\n",
        "    (inside loop)\n",
        "    1.Take input\n",
        "    2.Check all valid and invalid conditions of `pos`.\n",
        "    3.Make the appropriate move by calculating `pos2`.\n",
        "    4.Display game\n",
        "    4.Check winning condition\n",
        "```"
      ]
    },
    {
      "cell_type": "code",
      "execution_count": null,
      "metadata": {
        "colab": {
          "base_uri": "https://localhost:8080/"
        },
        "id": "BjpQuMCeUvrU",
        "outputId": "0852edb3-a907-4f12-9c82-7a510564400e"
      },
      "outputs": [
        {
          "output_type": "stream",
          "name": "stdout",
          "text": [
            "[0, 1, 2, 3, 4, 5, 6]\n",
            "['G', 'G', 'G', '-', 'B', 'B', 'B']\n",
            "Press 'q' to quit, else enter position of piece: 2\n",
            "Selected position: 2\n",
            "[0, 1, 2, 3, 4, 5, 6]\n",
            "['G', 'G', '-', 'G', 'B', 'B', 'B']\n",
            "[0, 1, 2, 3, 4, 5, 6]\n",
            "['G', 'G', '-', 'G', 'B', 'B', 'B']\n",
            "Press 'q' to quit, else enter position of piece: 4\n",
            "Selected position: 4\n",
            "[0, 1, 2, 3, 4, 5, 6]\n",
            "['G', 'G', 'B', 'G', '-', 'B', 'B']\n",
            "[0, 1, 2, 3, 4, 5, 6]\n",
            "['G', 'G', 'B', 'G', '-', 'B', 'B']\n",
            "Press 'q' to quit, else enter position of piece: 5\n",
            "Selected position: 5\n",
            "[0, 1, 2, 3, 4, 5, 6]\n",
            "['G', 'G', 'B', 'G', 'B', '-', 'B']\n",
            "[0, 1, 2, 3, 4, 5, 6]\n",
            "['G', 'G', 'B', 'G', 'B', '-', 'B']\n",
            "Press 'q' to quit, else enter position of piece: 3\n",
            "Selected position: 3\n",
            "[0, 1, 2, 3, 4, 5, 6]\n",
            "['G', 'G', 'B', '-', 'B', 'G', 'B']\n",
            "[0, 1, 2, 3, 4, 5, 6]\n",
            "['G', 'G', 'B', '-', 'B', 'G', 'B']\n",
            "Press 'q' to quit, else enter position of piece: 1\n",
            "Selected position: 1\n",
            "[0, 1, 2, 3, 4, 5, 6]\n",
            "['G', '-', 'B', 'G', 'B', 'G', 'B']\n",
            "[0, 1, 2, 3, 4, 5, 6]\n",
            "['G', '-', 'B', 'G', 'B', 'G', 'B']\n",
            "Press 'q' to quit, else enter position of piece: 0\n",
            "Selected position: 0\n",
            "[0, 1, 2, 3, 4, 5, 6]\n",
            "['-', 'G', 'B', 'G', 'B', 'G', 'B']\n",
            "[0, 1, 2, 3, 4, 5, 6]\n",
            "['-', 'G', 'B', 'G', 'B', 'G', 'B']\n",
            "Press 'q' to quit, else enter position of piece: 2\n",
            "Selected position: 2\n",
            "[0, 1, 2, 3, 4, 5, 6]\n",
            "['B', 'G', '-', 'G', 'B', 'G', 'B']\n",
            "[0, 1, 2, 3, 4, 5, 6]\n",
            "['B', 'G', '-', 'G', 'B', 'G', 'B']\n",
            "Press 'q' to quit, else enter position of piece: 4\n",
            "Selected position: 4\n",
            "[0, 1, 2, 3, 4, 5, 6]\n",
            "['B', 'G', 'B', 'G', '-', 'G', 'B']\n",
            "[0, 1, 2, 3, 4, 5, 6]\n",
            "['B', 'G', 'B', 'G', '-', 'G', 'B']\n",
            "Press 'q' to quit, else enter position of piece: 6\n",
            "Selected position: 6\n",
            "[0, 1, 2, 3, 4, 5, 6]\n",
            "['B', 'G', 'B', 'G', 'B', 'G', '-']\n",
            "[0, 1, 2, 3, 4, 5, 6]\n",
            "['B', 'G', 'B', 'G', 'B', 'G', '-']\n",
            "Press 'q' to quit, else enter position of piece: 5\n",
            "Selected position: 5\n",
            "[0, 1, 2, 3, 4, 5, 6]\n",
            "['B', 'G', 'B', 'G', 'B', '-', 'G']\n",
            "[0, 1, 2, 3, 4, 5, 6]\n",
            "['B', 'G', 'B', 'G', 'B', '-', 'G']\n",
            "Press 'q' to quit, else enter position of piece: 3\n",
            "Selected position: 3\n",
            "[0, 1, 2, 3, 4, 5, 6]\n",
            "['B', 'G', 'B', '-', 'B', 'G', 'G']\n",
            "[0, 1, 2, 3, 4, 5, 6]\n",
            "['B', 'G', 'B', '-', 'B', 'G', 'G']\n",
            "Press 'q' to quit, else enter position of piece: 1\n",
            "Selected position: 1\n",
            "[0, 1, 2, 3, 4, 5, 6]\n",
            "['B', '-', 'B', 'G', 'B', 'G', 'G']\n",
            "[0, 1, 2, 3, 4, 5, 6]\n",
            "['B', '-', 'B', 'G', 'B', 'G', 'G']\n",
            "Press 'q' to quit, else enter position of piece: 2\n",
            "Selected position: 2\n",
            "[0, 1, 2, 3, 4, 5, 6]\n",
            "['B', 'B', '-', 'G', 'B', 'G', 'G']\n",
            "[0, 1, 2, 3, 4, 5, 6]\n",
            "['B', 'B', '-', 'G', 'B', 'G', 'G']\n",
            "Press 'q' to quit, else enter position of piece: 4\n",
            "Selected position: 4\n",
            "[0, 1, 2, 3, 4, 5, 6]\n",
            "['B', 'B', 'B', 'G', '-', 'G', 'G']\n",
            "[0, 1, 2, 3, 4, 5, 6]\n",
            "['B', 'B', 'B', 'G', '-', 'G', 'G']\n",
            "Press 'q' to quit, else enter position of piece: 3\n",
            "Selected position: 3\n",
            "[0, 1, 2, 3, 4, 5, 6]\n",
            "['B', 'B', 'B', '-', 'G', 'G', 'G']\n",
            "You Win!\n"
          ]
        }
      ],
      "source": [
        "# Initialize the positions as mentioned in Step 1\n",
        "positions = ['G', 'G', 'G', '-', 'B', 'B', 'B']\n",
        "\n",
        "while True:\n",
        "    # Print the index numbers\n",
        "    print([0, 1, 2, 3, 4, 5, 6])\n",
        "\n",
        "    # Print the list 'positions'\n",
        "    print(positions)\n",
        "\n",
        "    # Take position input from the user\n",
        "    user_input = input(\"Press 'q' to quit, else enter position of piece: \")\n",
        "\n",
        "    # Check if the user wants to quit\n",
        "    if user_input.lower() == 'q':\n",
        "        print(\"You Lose\")\n",
        "        break\n",
        "\n",
        "    # Convert input to integer format\n",
        "    selected_position = int(user_input)\n",
        "\n",
        "    # Print the selected position\n",
        "    print(\"Selected position:\", selected_position)\n",
        "\n",
        "    # Check validity of the selected positions or move\n",
        "    if not (0 <= selected_position <= 6):\n",
        "        print(\"Invalid move: Position should be between 0 and 6.\")\n",
        "        continue\n",
        "\n",
        "    # Check if the selected position is the position of the empty leaf\n",
        "    if positions[selected_position] == '-':\n",
        "        print(\"Invalid Move: Selected position is the position of the empty leaf.\")\n",
        "        continue\n",
        "\n",
        "    # Initialize a variable named pos2 at value 0\n",
        "    pos2 = 0\n",
        "\n",
        "    # Check if the selected frog is 'G'\n",
        "    if positions[selected_position] == 'G':\n",
        "        # Condition 1\n",
        "        if selected_position + 1 <= 6 and positions[selected_position + 1] == '-':\n",
        "            pos2 = selected_position + 1\n",
        "        # Condition 2\n",
        "        elif selected_position + 2 <= 6 and positions[selected_position + 2] == '-' and positions[selected_position + 1] == 'B':\n",
        "            pos2 = selected_position + 2\n",
        "        # Condition 3\n",
        "        else:\n",
        "            print(\"Invalid Move\")\n",
        "            continue  # Move to the next iteration of the loop\n",
        "\n",
        "    # Check if the selected frog is 'B'\n",
        "    elif positions[selected_position] == 'B':\n",
        "        # Condition 1\n",
        "        if selected_position - 1 >= 0 and positions[selected_position - 1] == '-':\n",
        "            pos2 = selected_position - 1\n",
        "        # Condition 2\n",
        "        elif selected_position - 2 >= 0 and positions[selected_position - 2] == '-' and positions[selected_position - 1] == 'G':\n",
        "            pos2 = selected_position - 2\n",
        "        # Condition 3\n",
        "        else:\n",
        "            print(\"Invalid Move\")\n",
        "            continue  # Move to the next iteration of the loop\n",
        "\n",
        "    # Swap the elements at selected positions and calculated position2 in the list\n",
        "    positions[selected_position], positions[pos2] = positions[pos2], positions[selected_position]\n",
        "\n",
        "    # Print the updated display of the game\n",
        "    print([0, 1, 2, 3, 4, 5, 6])\n",
        "    print(positions)\n",
        "\n",
        "    # Check winning condition by comparing the elements of the list\n",
        "    if positions == ['B', 'B', 'B', '-', 'G', 'G', 'G']:\n",
        "        print(\"You Win!\")\n",
        "        break  # Break the loop if the player has won the game\n"
      ]
    },
    {
      "cell_type": "code",
      "execution_count": null,
      "metadata": {
        "id": "4AxJB8JN1ou9"
      },
      "outputs": [],
      "source": []
    }
  ],
  "metadata": {
    "colab": {
      "provenance": []
    },
    "kernelspec": {
      "display_name": "Python 3",
      "name": "python3"
    },
    "language_info": {
      "name": "python"
    }
  },
  "nbformat": 4,
  "nbformat_minor": 0
}